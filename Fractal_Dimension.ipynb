{
 "cells": [
  {
   "cell_type": "code",
   "execution_count": 1,
   "id": "potential-brazil",
   "metadata": {
    "id": "potential-brazil"
   },
   "outputs": [],
   "source": [
    "import cv2\n",
    "import numpy as np\n",
    "from matplotlib import pyplot as plt"
   ]
  },
  {
   "cell_type": "code",
   "execution_count": 2,
   "id": "fundamental-syria",
   "metadata": {
    "id": "fundamental-syria"
   },
   "outputs": [],
   "source": [
    "path = \"C:/Users/ajayc/Desktop/Fractal-Dimension/c1.jpg\""
   ]
  },
  {
   "cell_type": "code",
   "execution_count": 3,
   "id": "working-employee",
   "metadata": {
    "id": "working-employee"
   },
   "outputs": [],
   "source": [
    "image = cv2.imread(path, 1)"
   ]
  },
  {
   "cell_type": "code",
   "execution_count": 4,
   "id": "proper-waters",
   "metadata": {
    "id": "proper-waters"
   },
   "outputs": [],
   "source": [
    "blue_channel = image[:,:,0]\n",
    "green_channel = image[:,:,1]\n",
    "red_channel = image[:,:,2]"
   ]
  },
  {
   "cell_type": "code",
   "execution_count": 5,
   "id": "senior-bermuda",
   "metadata": {
    "id": "senior-bermuda"
   },
   "outputs": [],
   "source": [
    "red = red_channel.flatten()\n",
    "green = green_channel.flatten()\n",
    "blue = blue_channel.flatten()"
   ]
  },
  {
   "cell_type": "code",
   "execution_count": 6,
   "id": "underlying-advertiser",
   "metadata": {
    "id": "underlying-advertiser"
   },
   "outputs": [],
   "source": [
    "red_max = np.max(red)\n",
    "green_max = np.max(green)\n",
    "blue_max = np.max(blue)"
   ]
  },
  {
   "cell_type": "code",
   "execution_count": 7,
   "id": "pointed-health",
   "metadata": {
    "id": "pointed-health"
   },
   "outputs": [],
   "source": [
    "M = 256\n",
    "q = 0.21*float(red_max) + 0.72*float(green_max) + 0.07*float(blue_max)\n",
    "q = np.ceil(q)\n",
    "scale = []\n",
    "lr =[]\n",
    "l = 2\n",
    "Nr = []\n",
    "scale = []"
   ]
  },
  {
   "cell_type": "code",
   "execution_count": 8,
   "id": "functioning-huntington",
   "metadata": {
    "id": "functioning-huntington",
    "scrolled": true
   },
   "outputs": [],
   "source": [
    "while l <= (M/2):\n",
    "    r = l\n",
    "    slice_number = 1\n",
    "   \n",
    "    ld = (l*q)/M\n",
    "    nr = 0\n",
    "    blocksize_row = r\n",
    "    blocksize_col = r\n",
    "    for row in range(1,M, blocksize_row):\n",
    "        for col in range(1,M, blocksize_col):\n",
    "            row_1 = row\n",
    "            row_2 = row_1 + blocksize_row - 1\n",
    "            col_1 = col\n",
    "            col_2 = col_1 + blocksize_col - 1\n",
    "            one_block = image[row_1:row_2, col_1:col_2]\n",
    "            max_intensity = np.sum(np.max(np.max(one_block)))/3\n",
    "            min_intensity = np.sum(np.min(np.min(one_block)))/3\n",
    "           \n",
    "            height_box = np.ceil(float(max_intensity) / ld)\n",
    "            if max_intensity == min_intensity:\n",
    "                nr = nr + 1\n",
    "            else:\n",
    "                nr = nr + height_box\n",
    "            slice_number = slice_number + 1\n",
    "            \n",
    "        \n",
    "    Nr.append(nr)\n",
    "    scale.append(M/l)\n",
    "    l = l*2"
   ]
  },
  {
   "cell_type": "code",
   "execution_count": 9,
   "id": "neither-heavy",
   "metadata": {
    "id": "neither-heavy"
   },
   "outputs": [],
   "source": [
    "N = np.log(Nr)\n",
    "S = np.log(scale)\n",
    "p = np.polyfit(S, N, 1)\n",
    "f = np.polyval(p,S)"
   ]
  },
  {
   "cell_type": "code",
   "execution_count": 10,
   "id": "rational-ancient",
   "metadata": {},
   "outputs": [
    {
     "name": "stdout",
     "output_type": "stream",
     "text": [
      "Fractal Dimension is 2.881944568911999\n"
     ]
    }
   ],
   "source": [
    "print(\"Fractal Dimension is\", p[0])"
   ]
  },
  {
   "cell_type": "code",
   "execution_count": 11,
   "id": "essential-bride",
   "metadata": {},
   "outputs": [
    {
     "name": "stdout",
     "output_type": "stream",
     "text": [
      "Error is 0.026164384514365535\n"
     ]
    }
   ],
   "source": [
    "m = p[0]\n",
    "c = p[1]\n",
    "y = 0\n",
    "for j in range(1, len(N)):\n",
    "    x = (((m * S[j]) + c) - N[j])/(1 + m**2)\n",
    "    if x < 0:\n",
    "        y = y + x * (-1)\n",
    "    else:\n",
    "        y = y + x\n",
    "E = (1/len(N))*np.sqrt(y)\n",
    "print(\"Error is\", E)"
   ]
  },
  {
   "cell_type": "code",
   "execution_count": null,
   "id": "successful-summit",
   "metadata": {},
   "outputs": [],
   "source": []
  }
 ],
 "metadata": {
  "colab": {
   "name": "Fractal Dimension.ipynb",
   "provenance": []
  },
  "kernelspec": {
   "display_name": "Python 3",
   "language": "python",
   "name": "python3"
  },
  "language_info": {
   "codemirror_mode": {
    "name": "ipython",
    "version": 3
   },
   "file_extension": ".py",
   "mimetype": "text/x-python",
   "name": "python",
   "nbconvert_exporter": "python",
   "pygments_lexer": "ipython3",
   "version": "3.8.5"
  }
 },
 "nbformat": 4,
 "nbformat_minor": 5
}
